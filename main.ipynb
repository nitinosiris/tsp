{
 "cells": [
  {
   "cell_type": "code",
   "execution_count": 2,
   "source": [
    "import networkx as nx\n",
    "import matplotlib.pyplot as plt\n",
    "import heapq\n",
    "from queue import PriorityQueue\n",
    "import copy\n",
    "import sys"
   ],
   "outputs": [],
   "metadata": {}
  },
  {
   "cell_type": "code",
   "execution_count": null,
   "source": [
    "G = nx.read_edgelist(\"input10.txt\", nodetype=int, data=((\"weight\", int),))\n",
    "G = nx.Graph(G)\n",
    "# sys.stdout = open('output', 'w')"
   ],
   "outputs": [],
   "metadata": {}
  },
  {
   "cell_type": "code",
   "execution_count": null,
   "source": [
    "list(G.edges(data=True))\n",
    "source = list(G.edges())\n",
    "source, x = source[0]\n",
    "print(\"source is \" + str(source))"
   ],
   "outputs": [],
   "metadata": {}
  },
  {
   "cell_type": "code",
   "execution_count": null,
   "source": [
    "def print_graph(inp_graph, ct):\n",
    "    pos = nx.spring_layout(inp_graph)\n",
    "    nx.draw_networkx(inp_graph, pos)\n",
    "    labels = nx.get_edge_attributes(inp_graph, 'weight')\n",
    "    x = nx.draw_networkx_edge_labels(inp_graph, pos, edge_labels=labels)\n",
    "    plt.show(\"filename\" + str(ct) + \".png\")"
   ],
   "outputs": [],
   "metadata": {}
  },
  {
   "cell_type": "code",
   "execution_count": null,
   "source": [
    "# Initialize\n",
    "input_graph = copy.deepcopy(G)\n",
    "# print_graph(input_graph, 0)\n",
    "no_of_nodes = input_graph.number_of_nodes()\n",
    "# heap = [] # store as (node, g-value)\n",
    "pq = PriorityQueue()"
   ],
   "outputs": [],
   "metadata": {}
  },
  {
   "cell_type": "code",
   "execution_count": null,
   "source": [
    "print(\"No of nodes in graph \" + str(input_graph.number_of_nodes()))\n",
    "# print_graph(input_graph, 0)"
   ],
   "outputs": [],
   "metadata": {}
  },
  {
   "cell_type": "code",
   "execution_count": null,
   "source": [
    "def kruskalAlgo(inp_graph):\n",
    "    # stores the edges present in MST\n",
    "    MST = []\n",
    "    index = 0\n",
    "    cost = 0\n",
    "    nodes = inp_graph.number_of_nodes()\n",
    "    # temp graph\n",
    "    graph = nx.Graph()\n",
    "    # sort edges by increasing weight\n",
    "    sorted_graph = sorted(inp_graph.edges(data=True), key=lambda item: item[2]['weight'])\n",
    "    # MST contains exactly `V-1` edges\n",
    "    i = 0\n",
    "    for edgelist in sorted_graph:\n",
    "        # consider the next edge with minimum weight from the graph\n",
    "        (src, dest, weight) = edgelist\n",
    "        weight = weight.get('weight')\n",
    "        index = index + 1\n",
    "        # add edge\n",
    "        graph.add_edge(src, dest, weight=weight)\n",
    "        # check for cycle\n",
    "        lst = nx.cycle_basis(graph.to_undirected())\n",
    "        if len(lst) == 0:\n",
    "            # consider the wt if no cycle\n",
    "            cost = cost + weight\n",
    "        else:\n",
    "            # discard the edge\n",
    "            e = (src, dest, {\"weight\" : weight})\n",
    "            graph.remove_edge(*e[:2])\n",
    "    cost = 0\n",
    "    for s,d,wt in graph.edges(data=\"weight\"):\n",
    "        cost = cost + wt\n",
    "    # print(cost)\n",
    "    return graph, cost"
   ],
   "outputs": [],
   "metadata": {}
  },
  {
   "cell_type": "code",
   "execution_count": null,
   "source": [
    "#works\n",
    "def get_g_n(inp_graph, src, dest, parent_g_n):\n",
    "    e = (src, dest)\n",
    "    if inp_graph.has_edge(*e):\n",
    "        return inp_graph[src][dest].get('weight') + parent_g_n\n",
    "    else:\n",
    "        return -1"
   ],
   "outputs": [],
   "metadata": {}
  },
  {
   "cell_type": "code",
   "execution_count": null,
   "source": [
    "#works\n",
    "def get_h_n_and_mst(inp_graph):\n",
    "    graph, cost = kruskalAlgo(inp_graph)\n",
    "    # print(\"Cost of MST \" + str(cost))\n",
    "    # print_graph(graph,0)\n",
    "    return cost"
   ],
   "outputs": [],
   "metadata": {}
  },
  {
   "cell_type": "code",
   "execution_count": null,
   "source": [
    "#works\n",
    "def remove_list_of_nodes_from_graph(src, inp_graph, lst):\n",
    "    # lst = visited + [u]\n",
    "    for i in lst:\n",
    "        if int(i) != src:\n",
    "            if int(i) in inp_graph:\n",
    "                inp_graph.remove_node(int(i))\n",
    "    return inp_graph"
   ],
   "outputs": [],
   "metadata": {}
  },
  {
   "cell_type": "code",
   "execution_count": null,
   "source": [
    "#works\n",
    "def goal_test(input_graph ,visited):\n",
    "    lst = list(input_graph)\n",
    "    for i in lst:\n",
    "        if i not in visited:\n",
    "            return False\n",
    "    return True"
   ],
   "outputs": [],
   "metadata": {}
  },
  {
   "cell_type": "code",
   "execution_count": null,
   "source": [
    "def A_star(inp_graph, N, src):\n",
    "    # flag\n",
    "    flag = 0\n",
    "    # var\n",
    "    popped = 0\n",
    "    # ans\n",
    "    ans = 0\n",
    "    # state\n",
    "    count = 0\n",
    "    # GN\n",
    "    GN = 0\n",
    "    # ct = []\n",
    "    visited = []\n",
    "    # deepcopy for aug graph\n",
    "    temp = copy.deepcopy(inp_graph)\n",
    "\n",
    "    h_n = get_h_n_and_mst(temp)\n",
    "    # h_n = 0\n",
    "    pq.put((h_n + GN, h_n, GN, src, copy.deepcopy(visited), src))\n",
    "    # std bfs jaisa\n",
    "    while pq.qsize() != 0:\n",
    "        count = max(pq.qsize(), count)\n",
    "        data = pq.get()\n",
    "        f_n_parent, h_n_parent, g_n_parent, node, visited, parent = data\n",
    "        ans = f_n_parent\n",
    "        popped = node\n",
    "        # make node lst\n",
    "        visited.append(node)\n",
    "        # print(\"-----------------------------------------------------------------\")\n",
    "        if goal_test(inp_graph , visited):\n",
    "            # count = len(list(heap))\n",
    "            print(\"Goal test ran once \" + str(visited + [src]))\n",
    "            # print(visited[len(visited) -1])\n",
    "            x = visited[len(visited) -1]\n",
    "            e = (x, src)\n",
    "            if not inp_graph.has_edge(*e):\n",
    "                print(\"No direct edges between \" + str(x) + \" and \" + str(src))\n",
    "                print(\"Prune above path :)\")\n",
    "                continue\n",
    "            else:\n",
    "                ans += inp_graph[visited[len(visited)-1]][src].get('weight')\n",
    "                return ans, count\n",
    "        # get edges of current node\n",
    "        edges = []\n",
    "        for u, v, weight in inp_graph.edges.data(\"weight\"):\n",
    "            if weight is not None:\n",
    "                if u == node and v not in visited:\n",
    "                    edges.append(v)\n",
    "                elif v == node and u not in visited:\n",
    "                    edges.append(u)\n",
    "        # push all those childs into heap\n",
    "        for u in edges:\n",
    "            # deepcopy for aug graph\n",
    "            temp = copy.deepcopy(inp_graph)\n",
    "            # create augmented graph\n",
    "            temp = remove_list_of_nodes_from_graph(src, temp, visited + [u])\n",
    "            # generate MST of augmented graph\n",
    "            h_n = get_h_n_and_mst(temp)\n",
    "            # edge wt + parent's gn\n",
    "            GN = get_g_n(inp_graph, node, u, g_n_parent)\n",
    "            \n",
    "            if GN == -1:\n",
    "                print(\"Direct edge doesn't exist for \" + str(u) + \" and \" + str(node))\n",
    "                break\n",
    "            # push into heap\n",
    "            pq.put((h_n + GN, h_n, GN, u, copy.deepcopy(visited),node))\n",
    "        \n",
    "    if pq.qsize() == 0:\n",
    "        # print(\"We haven't traversed all nodes and heap is empty\")\n",
    "        print(\"Solution does not exist\")\n",
    "        print(\"Fail\")\n",
    "        ans = 0\n",
    "    return ans, count"
   ],
   "outputs": [],
   "metadata": {}
  },
  {
   "cell_type": "code",
   "execution_count": null,
   "source": [
    "def Start_a_star():\n",
    "    temp = copy.deepcopy(input_graph)\n",
    "    print_graph(input_graph, 0)\n",
    "    path, count = A_star(input_graph, no_of_nodes, source)    \n",
    "    print(\"FN = \" + str(path))\n",
    "    print(\"Max size of heap during runtime = \" + str(count))"
   ],
   "outputs": [],
   "metadata": {}
  },
  {
   "cell_type": "code",
   "execution_count": null,
   "source": [
    "Start_a_star()"
   ],
   "outputs": [],
   "metadata": {}
  }
 ],
 "metadata": {
  "orig_nbformat": 4,
  "language_info": {
   "name": "python",
   "version": "3.8.10",
   "mimetype": "text/x-python",
   "codemirror_mode": {
    "name": "ipython",
    "version": 3
   },
   "pygments_lexer": "ipython3",
   "nbconvert_exporter": "python",
   "file_extension": ".py"
  },
  "kernelspec": {
   "name": "python3",
   "display_name": "Python 3.8.10 64-bit ('env': venv)"
  },
  "interpreter": {
   "hash": "3f1d047f909f9f6cb4da309e43287422eb55d8cc9d720de2d1951f4bc8365f92"
  }
 },
 "nbformat": 4,
 "nbformat_minor": 2
}