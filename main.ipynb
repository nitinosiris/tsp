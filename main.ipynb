{
 "cells": [
  {
   "cell_type": "code",
   "execution_count": 225,
   "source": [
    "import scipy as sp\n",
    "from scipy import sparse\n",
    "import networkx as nx\n",
    "from scipy.io import mmread\n",
    "from numpy import linalg as LA\n",
    "import numpy as np\n",
    "import matplotlib.pyplot as plt\n",
    "import heapq\n",
    "import copy\n",
    "import sys"
   ],
   "outputs": [],
   "metadata": {}
  },
  {
   "cell_type": "code",
   "execution_count": 226,
   "source": [
    "G = nx.read_edgelist(\"output.txt\", nodetype=int, data=((\"weight\", int),))\n",
    "G = nx.Graph(G)"
   ],
   "outputs": [],
   "metadata": {}
  },
  {
   "cell_type": "code",
   "execution_count": 227,
   "source": [
    "list(G.edges(data=True))"
   ],
   "outputs": [
    {
     "output_type": "execute_result",
     "data": {
      "text/plain": [
       "[(1, 2, {'weight': 10}),\n",
       " (1, 4, {'weight': 20}),\n",
       " (1, 3, {'weight': 15}),\n",
       " (2, 4, {'weight': 25}),\n",
       " (2, 3, {'weight': 35}),\n",
       " (4, 3, {'weight': 30})]"
      ]
     },
     "metadata": {},
     "execution_count": 227
    }
   ],
   "metadata": {}
  },
  {
   "cell_type": "code",
   "execution_count": 228,
   "source": [
    "def print_graph(inp_graph, ct):\n",
    "    pos = nx.spring_layout(inp_graph)\n",
    "    nx.draw_networkx(inp_graph, pos)\n",
    "    labels = nx.get_edge_attributes(inp_graph, 'weight')\n",
    "    x = nx.draw_networkx_edge_labels(inp_graph, pos, edge_labels=labels)\n",
    "    plt.show(\"filename\" + str(ct) + \".png\")"
   ],
   "outputs": [],
   "metadata": {}
  },
  {
   "cell_type": "code",
   "execution_count": 229,
   "source": [
    "# Initialize\n",
    "input_graph = copy.deepcopy(G)\n",
    "print_graph(input_graph, 0)\n",
    "no_of_nodes = input_graph.number_of_nodes()\n",
    "heap = [] # store as (node, g-value)\n",
    "# visited = []"
   ],
   "outputs": [
    {
     "output_type": "display_data",
     "data": {
      "image/png": "[encoded data removed]",
      "text/plain": [
       "<Figure size 432x288 with 1 Axes>"
      ]
     },
     "metadata": {}
    }
   ],
   "metadata": {}
  },
  {
   "cell_type": "code",
   "execution_count": 230,
   "source": [
    "print(input_graph.number_of_nodes())\n",
    "# print_graph(input_graph, 0)"
   ],
   "outputs": [],
   "metadata": {}
  },
  {
   "cell_type": "code",
   "execution_count": 231,
   "source": [
    "def kruskalAlgo(inp_graph):\n",
    "    # stores the edges present in MST\n",
    "    MST = []\n",
    "    index = 0\n",
    "    cost = 0\n",
    "    ct = 0\n",
    "    nodes = inp_graph.number_of_nodes()\n",
    "    # temp graph\n",
    "    graph = nx.Graph()\n",
    "    # sort edges by increasing weight\n",
    "    sorted_graph = sorted(inp_graph.edges(data=True), key=lambda item: item[2]['weight'])\n",
    "    # MST contains exactly `V-1` edges\n",
    "    i = 0\n",
    "    for edgelist in sorted_graph:\n",
    "        # consider the next edge with minimum weight from the graph\n",
    "        \n",
    "        (src, dest, weight) = edgelist\n",
    "        weight = weight.get('weight')\n",
    "        index = index + 1\n",
    "        # add edge\n",
    "        graph.add_edge(src, dest, weight=weight)\n",
    "        # check for cycle\n",
    "        lst = nx.cycle_basis(graph.to_undirected())\n",
    "        if len(lst) == 0:\n",
    "            # consider the wt if no cycle\n",
    "            cost = cost + weight\n",
    "            # i += 1\n",
    "            # MST.append((src, dest, weight))\n",
    "            # minimumCost = 0\n",
    "            # N = nx.Graph()\n",
    "            # print(\"Adding Src : \" + str(src) + \" Des : \" + str(dest) + \" Wt : \" + str(weight))\n",
    "            # for u, v, weight in MST:\n",
    "            #     minimumCost += weight\n",
    "            #     N.add_weighted_edges_from([(u, v, weight)])\n",
    "            # print_graph(N, ct)\n",
    "            # ct = ct + 1\n",
    "        else:\n",
    "            # discard the edge\n",
    "            e = (src, dest, {\"weight\" : weight})\n",
    "            graph.remove_edge(*e[:2])\n",
    "\n",
    "        \n",
    "    return sorted_graph, graph, cost"
   ],
   "outputs": [],
   "metadata": {}
  },
  {
   "cell_type": "code",
   "execution_count": 232,
   "source": [
    "#works\n",
    "def get_g_n(inp_graph, src, dest, parent_g_n):\n",
    "    return inp_graph[src][dest].get('weight') + parent_g_n"
   ],
   "outputs": [],
   "metadata": {}
  },
  {
   "cell_type": "code",
   "execution_count": 233,
   "source": [
    "#works\n",
    "def get_h_n_and_mst(inp_graph):\n",
    "    lst, graph, cost = kruskalAlgo(inp_graph)\n",
    "    print(\"Cost of MST : \", cost)\n",
    "    # print_graph(graph, 0)\n",
    "    # print(lst)\n",
    "    return cost"
   ],
   "outputs": [],
   "metadata": {}
  },
  {
   "cell_type": "code",
   "execution_count": 234,
   "source": [
    "#works\n",
    "def remove_list_of_nodes_from_graph(inp_graph, lst):\n",
    "    for i in lst:\n",
    "        if int(i) in inp_graph:\n",
    "            inp_graph.remove_node(int(i))\n",
    "    return inp_graph"
   ],
   "outputs": [],
   "metadata": {}
  },
  {
   "cell_type": "code",
   "execution_count": 235,
   "source": [
    "#works\n",
    "def goal_test(no_of_nodes, visited):\n",
    "    return len(visited) == no_of_nodes"
   ],
   "outputs": [],
   "metadata": {}
  },
  {
   "cell_type": "code",
   "execution_count": 236,
   "source": [
    "def A_star(inp_graph, N, src):\n",
    "    # ans\n",
    "    ans = 0\n",
    "    # state\n",
    "    count = 0\n",
    "    # visited list\n",
    "    visited = []\n",
    "    # deepcopy for aug graph\n",
    "    temp = copy.deepcopy(inp_graph)\n",
    "    # create augmented graph\n",
    "    temp = remove_list_of_nodes_from_graph(temp, [src])\n",
    "    # print_graph(input_graph, 0)\n",
    "    # print_graph(temp, 0)\n",
    "    # generate MST of augmented graph\n",
    "    h_n = get_h_n_and_mst(temp)\n",
    "    # push src node with FN = HN since GN = 0 \n",
    "    heapq.heappush(heap, (h_n, h_n, 0, src, copy.deepcopy(visited), src))\n",
    "    # std bfs jaisa\n",
    "    while len(list(heap)) != 0:\n",
    "        count = max(len(list(heap)), count)\n",
    "        # pop node with min fn value\n",
    "        data = heapq.heappop(heap)\n",
    "        # print(\"Data of poped node \")\n",
    "        # print(data)\n",
    "        f_n_parent, h_n_parent, g_n_parent, node, visited, parent = data\n",
    "        # print(parent)\n",
    "        # print(visited)\n",
    "        ans = f_n_parent\n",
    "        # make node visited\n",
    "        visited.append(node)\n",
    "        if goal_test(N, visited):\n",
    "            print(\"The visited array is \")\n",
    "            print(visited)\n",
    "            return ans, count\n",
    "        # get edges of current node\n",
    "        edges = []\n",
    "        for u, v, weight in inp_graph.edges.data(\"weight\"):\n",
    "            if weight is not None:\n",
    "                if u == node and v not in visited:\n",
    "                    edges.append(v)\n",
    "                elif v == node and u not in visited:\n",
    "                    edges.append(u)\n",
    "        print(\"Edges for node \" + str(node) + \" \" + str(edges))\n",
    "        # now we have all childs of node\n",
    "        # push all those childs into heap\n",
    "        for u in edges:\n",
    "            # deepcopy for aug graph\n",
    "            temp = copy.deepcopy(inp_graph)\n",
    "            # create augmented graph\n",
    "            temp = remove_list_of_nodes_from_graph(temp, visited + [u])\n",
    "            # generate MST of augmented graph\n",
    "            h_n = get_h_n_and_mst(temp)\n",
    "            # edge wt + parent's gn\n",
    "            GN = get_g_n(inp_graph, node, u, g_n_parent)\n",
    "            # push into heap\n",
    "            heapq.heappush(heap, (h_n + GN, h_n, GN, u, copy.deepcopy(visited), node))\n",
    "        print(\"-----------------------------------------------------------------\")\n",
    "        print(\"Parent \" + str(parent))\n",
    "        print(\"Heap \" + str(list(heap)))\n",
    "        print(\"Node popped from heap \" + str(node))\n",
    "        print(\"Its visited list \" + str(visited))\n",
    "    if len(list(heap)) == 0:\n",
    "        print(\"We haven't traversed all nodes and heap is empty\")\n",
    "        print(\"Solution does not exist\")\n",
    "        ans = 0\n",
    "    return ans, count"
   ],
   "outputs": [],
   "metadata": {}
  },
  {
   "cell_type": "code",
   "execution_count": 237,
   "source": [
    "def Start_a_star():\n",
    "    temp = copy.deepcopy(input_graph)\n",
    "    print_graph(input_graph, 0)\n",
    "    # print(list(heap))\n",
    "    # print(visited)\n",
    "    # print(no_of_nodes)\n",
    "    sys.stdout = open('output', 'w')\n",
    "    path, count = A_star(input_graph, no_of_nodes, 1)\n",
    "    print(\"FN = \" + str(path))\n",
    "    print(\"Max size of heap at any state = \" + str(count))"
   ],
   "outputs": [],
   "metadata": {}
  },
  {
   "cell_type": "code",
   "execution_count": 238,
   "source": [
    "Start_a_star()"
   ],
   "outputs": [
    {
     "output_type": "display_data",
     "data": {
      "image/png": "[encoded data removed]",
      "text/plain": [
       "<Figure size 432x288 with 1 Axes>"
      ]
     },
     "metadata": {}
    }
   ],
   "metadata": {}
  }
 ],
 "metadata": {
  "orig_nbformat": 4,
  "language_info": {
   "name": "python",
   "version": "3.8.10",
   "mimetype": "text/x-python",
   "codemirror_mode": {
    "name": "ipython",
    "version": 3
   },
   "pygments_lexer": "ipython3",
   "nbconvert_exporter": "python",
   "file_extension": ".py"
  },
  "kernelspec": {
   "name": "python3",
   "display_name": "Python 3.8.10 64-bit"
  },
  "interpreter": {
   "hash": "916dbcbb3f70747c44a77c7bcd40155683ae19c65e1c03b4aa3499c5328201f1"
  }
 },
 "nbformat": 4,
 "nbformat_minor": 2
}