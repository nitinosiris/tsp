{
 "cells": [
  {
   "cell_type": "code",
   "execution_count": 1719,
   "source": [
    "import scipy as sp\n",
    "from scipy import sparse\n",
    "import networkx as nx\n",
    "from scipy.io import mmread\n",
    "from numpy import linalg as LA\n",
    "import numpy as np\n",
    "import matplotlib.pyplot as plt\n",
    "import heapq"
   ],
   "outputs": [],
   "metadata": {}
  },
  {
   "cell_type": "code",
   "execution_count": 1720,
   "source": [
    "G = nx.read_edgelist(\"data.txt\", nodetype=int, data=((\"weight\", int),))\n",
    "G = nx.Graph(G)"
   ],
   "outputs": [],
   "metadata": {}
  },
  {
   "cell_type": "code",
   "execution_count": 1721,
   "source": [
    "list(G.edges(data=True))"
   ],
   "outputs": [
    {
     "output_type": "execute_result",
     "data": {
      "text/plain": [
       "[(0, 1, {'weight': 4}),\n",
       " (0, 2, {'weight': 9}),\n",
       " (1, 2, {'weight': 2}),\n",
       " (1, 3, {'weight': 6}),\n",
       " (1, 4, {'weight': 2}),\n",
       " (2, 4, {'weight': 1}),\n",
       " (2, 3, {'weight': 1})]"
      ]
     },
     "metadata": {},
     "execution_count": 1721
    }
   ],
   "metadata": {}
  },
  {
   "cell_type": "code",
   "execution_count": 1722,
   "source": [
    "def print_graph(inp_graph, ct):\n",
    "    pos = nx.spring_layout(inp_graph)\n",
    "    nx.draw_networkx(inp_graph, pos)\n",
    "    labels = nx.get_edge_attributes(inp_graph, 'weight')\n",
    "    x = nx.draw_networkx_edge_labels(inp_graph, pos, edge_labels=labels)\n",
    "    plt.show(\"filename\" + str(ct) + \".png\")"
   ],
   "outputs": [],
   "metadata": {}
  },
  {
   "cell_type": "code",
   "execution_count": 1723,
   "source": [
    "# Initialize\n",
    "input_graph = G\n",
    "print_graph(input_graph, 0)\n",
    "no_of_nodes = input_graph.number_of_nodes()\n",
    "heap = [] # store as (node, g-value)\n",
    "visited = []"
   ],
   "outputs": [
    {
     "output_type": "display_data",
     "data": {
      "image/png": "[encoded data removed]",
      "text/plain": [
       "<Figure size 432x288 with 1 Axes>"
      ]
     },
     "metadata": {}
    }
   ],
   "metadata": {}
  },
  {
   "cell_type": "code",
   "execution_count": 1724,
   "source": [
    "print(input_graph.number_of_nodes())\n",
    "# print_graph(input_graph, 0)"
   ],
   "outputs": [
    {
     "output_type": "stream",
     "name": "stdout",
     "text": [
      "5\n"
     ]
    }
   ],
   "metadata": {}
  },
  {
   "cell_type": "code",
   "execution_count": 1725,
   "source": [
    "def kruskalAlgo(inp_graph):\n",
    "    # stores the edges present in MST\n",
    "    MST = []\n",
    "    index = 0\n",
    "    cost = 0\n",
    "    ct = 0\n",
    "    nodes = inp_graph.number_of_nodes()\n",
    "    # temp graph\n",
    "    graph = nx.Graph()\n",
    "    # sort edges by increasing weight\n",
    "    sorted_graph = sorted(inp_graph.edges(data=True), key=lambda item: item[2]['weight'])\n",
    "    # MST contains exactly `V-1` edges\n",
    "    i = 0\n",
    "    while graph.number_of_nodes() != nodes:\n",
    "        # consider the next edge with minimum weight from the graph\n",
    "        (src, dest, weight) = sorted_graph[index]\n",
    "        weight = weight.get('weight')\n",
    "        index = index + 1\n",
    "        # add edge\n",
    "        graph.add_edge(src, dest, weight=weight)\n",
    "        # check for cycle\n",
    "        lst = nx.cycle_basis(graph.to_undirected())\n",
    "        if len(lst) == 0:\n",
    "            # consider the wt if no cycle\n",
    "            cost = cost + weight\n",
    "            # MST.append((src, dest, weight))\n",
    "            # minimumCost = 0\n",
    "            # N = nx.Graph()\n",
    "            # print(\"Adding Src : \" + str(src) + \" Des : \" + str(dest) + \" Wt : \" + str(weight))\n",
    "            # for u, v, weight in MST:\n",
    "            #     minimumCost += weight\n",
    "            #     N.add_weighted_edges_from([(u, v, weight)])\n",
    "            # print_graph(N, ct)\n",
    "            # ct = ct + 1\n",
    "        else:\n",
    "            # discard the edge\n",
    "            e = (src, dest, {\"weight\" : weight})\n",
    "            graph.remove_edge(*e[:2])\n",
    "        i += 1\n",
    "\n",
    "        \n",
    "    return graph, cost"
   ],
   "outputs": [],
   "metadata": {}
  },
  {
   "cell_type": "code",
   "execution_count": 1726,
   "source": [
    "#works\n",
    "def get_g_n(inp_graph, src, dest, parent_g_n):\n",
    "    return inp_graph[src][dest].get('weight') + parent_g_n"
   ],
   "outputs": [],
   "metadata": {}
  },
  {
   "cell_type": "code",
   "execution_count": 1727,
   "source": [
    "#works\n",
    "def get_h_n_and_mst(inp_graph):\n",
    "    graph, cost = kruskalAlgo(inp_graph)\n",
    "    print(\"Cost of MST : \", cost)\n",
    "    return cost"
   ],
   "outputs": [],
   "metadata": {}
  },
  {
   "cell_type": "code",
   "execution_count": 1728,
   "source": [
    "#works\n",
    "def remove_list_of_nodes_from_graph(inp_graph, lst):\n",
    "    aug_graph = inp_graph\n",
    "    for i in lst:\n",
    "        aug_graph.remove_node(int(i))\n",
    "    return aug_graph"
   ],
   "outputs": [],
   "metadata": {}
  },
  {
   "cell_type": "code",
   "execution_count": 1729,
   "source": [
    "#works\n",
    "def goal_test(no_of_nodes, visited, curr_node):\n",
    "    if curr_node == 0:\n",
    "        for i in range(no_of_nodes):\n",
    "            if i not in visited:\n",
    "                return False\n",
    "    else:\n",
    "        return False\n",
    "    return True"
   ],
   "outputs": [],
   "metadata": {}
  },
  {
   "cell_type": "code",
   "execution_count": 1730,
   "source": [
    "def A_star(inp_graph, N , CN, visited, parent_gn):\n",
    "    # make current node visited\n",
    "    \n",
    "    visited.append(CN)\n",
    "    while goal_test(N, visited, CN) == False:\n",
    "        # remove the visited nodes from graph and get augmented graph\n",
    "        # print_graph(inp_graph, 0)\n",
    "        temp_graph = inp_graph\n",
    "        aug_graph = remove_list_of_nodes_from_graph(temp_graph, visited)\n",
    "        # get mst from it and hn\n",
    "        print_graph(aug_graph,0)\n",
    "        h_n = get_h_n_and_mst(aug_graph)\n",
    "        # get list of edges from current node\n",
    "        # edges = inp_graph.edges(CN)\n",
    "        edges = []\n",
    "        for u, v, weight in inp_graph.edges.data(\"weight\"):\n",
    "            if weight is not None:\n",
    "                if u == CN or v == CN:\n",
    "                    edges.append((u,v))\n",
    "        # push all unvisited nodes to heap with f-value\n",
    "        print(edges)\n",
    "        for src, dest in edges:\n",
    "            if dest in visited:\n",
    "                # add the node with f-value\n",
    "                f_value = h_n + get_g_n(inp_graph, src, dest, parent_g_n)\n",
    "                heappush(heap, (dest, parent_gn))\n",
    "        # extract node from heap with least f_value\n",
    "        node, node_g_value = heappop(heap)\n",
    "        # call a* on the node\n",
    "        inp_graph = NEW_GRAPH\n",
    "        return A_star(inp_graph, N ,node, visited, node_g_value)\n",
    "    # goal test is true\n",
    "    # list visited stores the order in which nodes are visited\n",
    "    return visited"
   ],
   "outputs": [],
   "metadata": {}
  },
  {
   "cell_type": "code",
   "execution_count": 1731,
   "source": [
    "def Start_a_star():\n",
    "    heappush(heap, (0, 0))\n",
    "    # print(list(heap))\n",
    "    # print(visited)\n",
    "    # print(no_of_nodes)\n",
    "    global NEW_GRAPH\n",
    "    NEW_GRAPH = input_graph\n",
    "    path = A_star(inp_graph=input_graph, N=no_of_nodes, CN=0, visited=visited, parent_gn=0)"
   ],
   "outputs": [],
   "metadata": {}
  },
  {
   "cell_type": "code",
   "execution_count": 1732,
   "source": [
    "Start_a_star()"
   ],
   "outputs": [
    {
     "output_type": "display_data",
     "data": {
      "image/png": "[encoded data removed]",
      "text/plain": [
       "<Figure size 432x288 with 1 Axes>"
      ]
     },
     "metadata": {}
    },
    {
     "output_type": "stream",
     "name": "stdout",
     "text": [
      "Cost of MST :  4\n",
      "[]\n"
     ]
    },
    {
     "output_type": "error",
     "ename": "NetworkXError",
     "evalue": "The node 0 is not in the graph.",
     "traceback": [
      "\u001b[0;31m---------------------------------------------------------------------------\u001b[0m",
      "\u001b[0;31mKeyError\u001b[0m                                  Traceback (most recent call last)",
      "\u001b[0;32m~/.local/lib/python3.8/site-packages/networkx/classes/graph.py\u001b[0m in \u001b[0;36mremove_node\u001b[0;34m(self, n)\u001b[0m\n\u001b[1;32m    617\u001b[0m         \u001b[0;32mtry\u001b[0m\u001b[0;34m:\u001b[0m\u001b[0;34m\u001b[0m\u001b[0;34m\u001b[0m\u001b[0m\n\u001b[0;32m--> 618\u001b[0;31m             \u001b[0mnbrs\u001b[0m \u001b[0;34m=\u001b[0m \u001b[0mlist\u001b[0m\u001b[0;34m(\u001b[0m\u001b[0madj\u001b[0m\u001b[0;34m[\u001b[0m\u001b[0mn\u001b[0m\u001b[0;34m]\u001b[0m\u001b[0;34m)\u001b[0m  \u001b[0;31m# list handles self-loops (allows mutation)\u001b[0m\u001b[0;34m\u001b[0m\u001b[0;34m\u001b[0m\u001b[0m\n\u001b[0m\u001b[1;32m    619\u001b[0m             \u001b[0;32mdel\u001b[0m \u001b[0mself\u001b[0m\u001b[0;34m.\u001b[0m\u001b[0m_node\u001b[0m\u001b[0;34m[\u001b[0m\u001b[0mn\u001b[0m\u001b[0;34m]\u001b[0m\u001b[0;34m\u001b[0m\u001b[0;34m\u001b[0m\u001b[0m\n",
      "\u001b[0;31mKeyError\u001b[0m: 0",
      "\nThe above exception was the direct cause of the following exception:\n",
      "\u001b[0;31mNetworkXError\u001b[0m                             Traceback (most recent call last)",
      "\u001b[0;32m/tmp/ipykernel_261/3150342268.py\u001b[0m in \u001b[0;36m<module>\u001b[0;34m\u001b[0m\n\u001b[0;32m----> 1\u001b[0;31m \u001b[0mStart_a_star\u001b[0m\u001b[0;34m(\u001b[0m\u001b[0;34m)\u001b[0m\u001b[0;34m\u001b[0m\u001b[0;34m\u001b[0m\u001b[0m\n\u001b[0m",
      "\u001b[0;32m/tmp/ipykernel_261/3425491551.py\u001b[0m in \u001b[0;36mStart_a_star\u001b[0;34m()\u001b[0m\n\u001b[1;32m      6\u001b[0m     \u001b[0;32mglobal\u001b[0m \u001b[0mNEW_GRAPH\u001b[0m\u001b[0;34m\u001b[0m\u001b[0;34m\u001b[0m\u001b[0m\n\u001b[1;32m      7\u001b[0m     \u001b[0mNEW_GRAPH\u001b[0m \u001b[0;34m=\u001b[0m \u001b[0minput_graph\u001b[0m\u001b[0;34m\u001b[0m\u001b[0;34m\u001b[0m\u001b[0m\n\u001b[0;32m----> 8\u001b[0;31m     \u001b[0mpath\u001b[0m \u001b[0;34m=\u001b[0m \u001b[0mA_star\u001b[0m\u001b[0;34m(\u001b[0m\u001b[0minp_graph\u001b[0m\u001b[0;34m=\u001b[0m\u001b[0minput_graph\u001b[0m\u001b[0;34m,\u001b[0m \u001b[0mN\u001b[0m\u001b[0;34m=\u001b[0m\u001b[0mno_of_nodes\u001b[0m\u001b[0;34m,\u001b[0m \u001b[0mCN\u001b[0m\u001b[0;34m=\u001b[0m\u001b[0;36m0\u001b[0m\u001b[0;34m,\u001b[0m \u001b[0mvisited\u001b[0m\u001b[0;34m=\u001b[0m\u001b[0mvisited\u001b[0m\u001b[0;34m,\u001b[0m \u001b[0mparent_gn\u001b[0m\u001b[0;34m=\u001b[0m\u001b[0;36m0\u001b[0m\u001b[0;34m)\u001b[0m\u001b[0;34m\u001b[0m\u001b[0;34m\u001b[0m\u001b[0m\n\u001b[0m",
      "\u001b[0;32m/tmp/ipykernel_261/1696392340.py\u001b[0m in \u001b[0;36mA_star\u001b[0;34m(inp_graph, N, CN, visited, parent_gn)\u001b[0m\n\u001b[1;32m     29\u001b[0m         \u001b[0;31m# call a* on the node\u001b[0m\u001b[0;34m\u001b[0m\u001b[0;34m\u001b[0m\u001b[0;34m\u001b[0m\u001b[0m\n\u001b[1;32m     30\u001b[0m         \u001b[0minp_graph\u001b[0m \u001b[0;34m=\u001b[0m \u001b[0mNEW_GRAPH\u001b[0m\u001b[0;34m\u001b[0m\u001b[0;34m\u001b[0m\u001b[0m\n\u001b[0;32m---> 31\u001b[0;31m         \u001b[0;32mreturn\u001b[0m \u001b[0mA_star\u001b[0m\u001b[0;34m(\u001b[0m\u001b[0minp_graph\u001b[0m\u001b[0;34m,\u001b[0m \u001b[0mN\u001b[0m \u001b[0;34m,\u001b[0m\u001b[0mnode\u001b[0m\u001b[0;34m,\u001b[0m \u001b[0mvisited\u001b[0m\u001b[0;34m,\u001b[0m \u001b[0mnode_g_value\u001b[0m\u001b[0;34m)\u001b[0m\u001b[0;34m\u001b[0m\u001b[0;34m\u001b[0m\u001b[0m\n\u001b[0m\u001b[1;32m     32\u001b[0m     \u001b[0;31m# goal test is true\u001b[0m\u001b[0;34m\u001b[0m\u001b[0;34m\u001b[0m\u001b[0;34m\u001b[0m\u001b[0m\n\u001b[1;32m     33\u001b[0m     \u001b[0;31m# list visited stores the order in which nodes are visited\u001b[0m\u001b[0;34m\u001b[0m\u001b[0;34m\u001b[0m\u001b[0;34m\u001b[0m\u001b[0m\n",
      "\u001b[0;32m/tmp/ipykernel_261/1696392340.py\u001b[0m in \u001b[0;36mA_star\u001b[0;34m(inp_graph, N, CN, visited, parent_gn)\u001b[0m\n\u001b[1;32m      7\u001b[0m         \u001b[0;31m# print_graph(inp_graph, 0)\u001b[0m\u001b[0;34m\u001b[0m\u001b[0;34m\u001b[0m\u001b[0;34m\u001b[0m\u001b[0m\n\u001b[1;32m      8\u001b[0m         \u001b[0mtemp_graph\u001b[0m \u001b[0;34m=\u001b[0m \u001b[0minp_graph\u001b[0m\u001b[0;34m\u001b[0m\u001b[0;34m\u001b[0m\u001b[0m\n\u001b[0;32m----> 9\u001b[0;31m         \u001b[0maug_graph\u001b[0m \u001b[0;34m=\u001b[0m \u001b[0mremove_list_of_nodes_from_graph\u001b[0m\u001b[0;34m(\u001b[0m\u001b[0mtemp_graph\u001b[0m\u001b[0;34m,\u001b[0m \u001b[0mvisited\u001b[0m\u001b[0;34m)\u001b[0m\u001b[0;34m\u001b[0m\u001b[0;34m\u001b[0m\u001b[0m\n\u001b[0m\u001b[1;32m     10\u001b[0m         \u001b[0;31m# get mst from it and hn\u001b[0m\u001b[0;34m\u001b[0m\u001b[0;34m\u001b[0m\u001b[0;34m\u001b[0m\u001b[0m\n\u001b[1;32m     11\u001b[0m         \u001b[0mprint_graph\u001b[0m\u001b[0;34m(\u001b[0m\u001b[0maug_graph\u001b[0m\u001b[0;34m,\u001b[0m\u001b[0;36m0\u001b[0m\u001b[0;34m)\u001b[0m\u001b[0;34m\u001b[0m\u001b[0;34m\u001b[0m\u001b[0m\n",
      "\u001b[0;32m/tmp/ipykernel_261/2907959890.py\u001b[0m in \u001b[0;36mremove_list_of_nodes_from_graph\u001b[0;34m(inp_graph, lst)\u001b[0m\n\u001b[1;32m      3\u001b[0m     \u001b[0maug_graph\u001b[0m \u001b[0;34m=\u001b[0m \u001b[0minp_graph\u001b[0m\u001b[0;34m\u001b[0m\u001b[0;34m\u001b[0m\u001b[0m\n\u001b[1;32m      4\u001b[0m     \u001b[0;32mfor\u001b[0m \u001b[0mi\u001b[0m \u001b[0;32min\u001b[0m \u001b[0mlst\u001b[0m\u001b[0;34m:\u001b[0m\u001b[0;34m\u001b[0m\u001b[0;34m\u001b[0m\u001b[0m\n\u001b[0;32m----> 5\u001b[0;31m         \u001b[0maug_graph\u001b[0m\u001b[0;34m.\u001b[0m\u001b[0mremove_node\u001b[0m\u001b[0;34m(\u001b[0m\u001b[0mint\u001b[0m\u001b[0;34m(\u001b[0m\u001b[0mi\u001b[0m\u001b[0;34m)\u001b[0m\u001b[0;34m)\u001b[0m\u001b[0;34m\u001b[0m\u001b[0;34m\u001b[0m\u001b[0m\n\u001b[0m\u001b[1;32m      6\u001b[0m     \u001b[0;32mreturn\u001b[0m \u001b[0maug_graph\u001b[0m\u001b[0;34m\u001b[0m\u001b[0;34m\u001b[0m\u001b[0m\n",
      "\u001b[0;32m~/.local/lib/python3.8/site-packages/networkx/classes/graph.py\u001b[0m in \u001b[0;36mremove_node\u001b[0;34m(self, n)\u001b[0m\n\u001b[1;32m    619\u001b[0m             \u001b[0;32mdel\u001b[0m \u001b[0mself\u001b[0m\u001b[0;34m.\u001b[0m\u001b[0m_node\u001b[0m\u001b[0;34m[\u001b[0m\u001b[0mn\u001b[0m\u001b[0;34m]\u001b[0m\u001b[0;34m\u001b[0m\u001b[0;34m\u001b[0m\u001b[0m\n\u001b[1;32m    620\u001b[0m         \u001b[0;32mexcept\u001b[0m \u001b[0mKeyError\u001b[0m \u001b[0;32mas\u001b[0m \u001b[0me\u001b[0m\u001b[0;34m:\u001b[0m  \u001b[0;31m# NetworkXError if n not in self\u001b[0m\u001b[0;34m\u001b[0m\u001b[0;34m\u001b[0m\u001b[0m\n\u001b[0;32m--> 621\u001b[0;31m             \u001b[0;32mraise\u001b[0m \u001b[0mNetworkXError\u001b[0m\u001b[0;34m(\u001b[0m\u001b[0;34mf\"The node {n} is not in the graph.\"\u001b[0m\u001b[0;34m)\u001b[0m \u001b[0;32mfrom\u001b[0m \u001b[0me\u001b[0m\u001b[0;34m\u001b[0m\u001b[0;34m\u001b[0m\u001b[0m\n\u001b[0m\u001b[1;32m    622\u001b[0m         \u001b[0;32mfor\u001b[0m \u001b[0mu\u001b[0m \u001b[0;32min\u001b[0m \u001b[0mnbrs\u001b[0m\u001b[0;34m:\u001b[0m\u001b[0;34m\u001b[0m\u001b[0;34m\u001b[0m\u001b[0m\n\u001b[1;32m    623\u001b[0m             \u001b[0;32mdel\u001b[0m \u001b[0madj\u001b[0m\u001b[0;34m[\u001b[0m\u001b[0mu\u001b[0m\u001b[0;34m]\u001b[0m\u001b[0;34m[\u001b[0m\u001b[0mn\u001b[0m\u001b[0;34m]\u001b[0m  \u001b[0;31m# remove all edges n-u in graph\u001b[0m\u001b[0;34m\u001b[0m\u001b[0;34m\u001b[0m\u001b[0m\n",
      "\u001b[0;31mNetworkXError\u001b[0m: The node 0 is not in the graph."
     ]
    }
   ],
   "metadata": {}
  }
 ],
 "metadata": {
  "orig_nbformat": 4,
  "language_info": {
   "name": "python",
   "version": "3.8.10",
   "mimetype": "text/x-python",
   "codemirror_mode": {
    "name": "ipython",
    "version": 3
   },
   "pygments_lexer": "ipython3",
   "nbconvert_exporter": "python",
   "file_extension": ".py"
  },
  "kernelspec": {
   "name": "python3",
   "display_name": "Python 3.8.10 64-bit"
  },
  "interpreter": {
   "hash": "916dbcbb3f70747c44a77c7bcd40155683ae19c65e1c03b4aa3499c5328201f1"
  }
 },
 "nbformat": 4,
 "nbformat_minor": 2
}