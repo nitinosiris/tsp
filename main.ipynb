{
 "cells": [
  {
   "cell_type": "code",
   "execution_count": 281,
   "source": [
    "import scipy as sp\n",
    "from scipy import sparse\n",
    "import networkx as nx\n",
    "from scipy.io import mmread\n",
    "from numpy import linalg as LA\n",
    "import numpy as np\n",
    "import matplotlib.pyplot as plt\n",
    "import heapq"
   ],
   "outputs": [],
   "metadata": {}
  },
  {
   "cell_type": "code",
   "execution_count": 282,
   "source": [
    "G = nx.read_edgelist(\"data.txt\", nodetype=int, data=((\"weight\", int),))\n",
    "G = nx.Graph(G)"
   ],
   "outputs": [],
   "metadata": {}
  },
  {
   "cell_type": "code",
   "execution_count": 283,
   "source": [
    "# list(G.edges(data=True))"
   ],
   "outputs": [],
   "metadata": {}
  },
  {
   "cell_type": "code",
   "execution_count": 284,
   "source": [
    "def print_graph(G, ct):\n",
    "    pos = nx.spring_layout(G)\n",
    "    nx.draw_networkx(G, pos)\n",
    "    labels = nx.get_edge_attributes(G, 'weight')\n",
    "    x = nx.draw_networkx_edge_labels(G, pos, edge_labels=labels)\n",
    "    plt.show(\"filename\" + str(ct) + \".png\")"
   ],
   "outputs": [],
   "metadata": {}
  },
  {
   "cell_type": "code",
   "execution_count": 285,
   "source": [
    "print(G.number_of_nodes())"
   ],
   "outputs": [
    {
     "output_type": "stream",
     "name": "stdout",
     "text": [
      "5\n"
     ]
    }
   ],
   "metadata": {}
  },
  {
   "cell_type": "code",
   "execution_count": 286,
   "source": [
    "def find(parent, i):\n",
    "    if parent[i] == i:\n",
    "        return i\n",
    "    return find(parent, parent[i])\n",
    "\n",
    "\n",
    "def union(parent, rank, x, y):\n",
    "    xroot = find(parent, x)\n",
    "    yroot = find(parent, y)\n",
    "\n",
    "    # Attach smaller rank tree under root of\n",
    "    # high rank tree (Union by Rank)\n",
    "    if rank[xroot] < rank[yroot]:\n",
    "        parent[xroot] = yroot\n",
    "    elif rank[xroot] > rank[yroot]:\n",
    "        parent[yroot] = xroot\n",
    "\n",
    "    # If ranks are same, then make one as root\n",
    "    # and increment its rank by one\n",
    "    else:\n",
    "        parent[yroot] = xroot\n",
    "        rank[xroot] += 1\n"
   ],
   "outputs": [],
   "metadata": {}
  },
  {
   "cell_type": "code",
   "execution_count": 287,
   "source": [
    "class DisjointSet:\n",
    "    parent = {}\n",
    " \n",
    "    # perform MakeSet operation\n",
    "    def makeSet(self, N):\n",
    " \n",
    "        # create `N` disjoint sets (one for each vertex)\n",
    "        for i in range(N):\n",
    "            self.parent[i] = i\n",
    " \n",
    "    # Find the root of the set in which element `k` belongs\n",
    "    def Find(self, k):\n",
    " \n",
    "        # if `k` is root\n",
    "        if self.parent[k] == k:\n",
    "            return k\n",
    " \n",
    "        # recur for the parent until we find the root\n",
    "        return self.Find(self.parent[k])\n",
    " \n",
    "    # Perform Union of two subsets\n",
    "    def Union(self, a, b):\n",
    " \n",
    "        # find the root of the sets in which elements\n",
    "        # `x` and `y` belongs\n",
    "        x = self.Find(a)\n",
    "        y = self.Find(b)\n",
    " \n",
    "        self.parent[x] = y\n"
   ],
   "outputs": [],
   "metadata": {}
  },
  {
   "cell_type": "code",
   "execution_count": 288,
   "source": [
    "def kruskalAlgo(G):\n",
    " \n",
    "    # stores the edges present in MST\n",
    "    MST = []\n",
    "    # Initialize `DisjointSet` class.\n",
    "    # Create a singleton set for each element of the universe.\n",
    "    ds = DisjointSet()\n",
    "    ds.makeSet(G.number_of_nodes())\n",
    " \n",
    "    index = 0\n",
    "    ct = 0\n",
    "    graph = G\n",
    "    G = sorted(G.edges(data=True), key=lambda item: item[2]['weight'])\n",
    "    # sort edges by increasing weight\n",
    "    # edges.sort(key=lambda x: x[2])\n",
    " \n",
    "    # MST contains exactly `V-1` edges\n",
    "    while len(MST) != graph.number_of_nodes() - 1:\n",
    " \n",
    "        # consider the next edge with minimum weight from the graph\n",
    "        (src, dest, weight) = G[index]\n",
    "        weight = weight.get('weight')\n",
    "        index = index + 1\n",
    " \n",
    "        # find the root of the sets to which two endpoints\n",
    "        # vertices of the next edge belongs\n",
    "        x = ds.Find(src)\n",
    "        y = ds.Find(dest)\n",
    " \n",
    "        # if both endpoints have different parents, they belong to\n",
    "        # different connected components and can be included in MST\n",
    "        if x != y:\n",
    "            MST.append((src, dest, weight))\n",
    "            ds.Union(x, y)\n",
    "            minimumCost = 0\n",
    "            N = nx.Graph()\n",
    "            print(\"Adding Src : \" + str(src) + \" Des : \" + str(dest) + \" Wt : \" + str(weight))\n",
    "            for u, v, weight in MST:\n",
    "                minimumCost += weight\n",
    "                N.add_weighted_edges_from([(u, v, weight)])\n",
    "            print_graph(N, ct)\n",
    "            ct = ct + 1\n",
    "    return minimumCost, G"
   ],
   "outputs": [],
   "metadata": {}
  },
  {
   "cell_type": "code",
   "execution_count": 289,
   "source": [
    "#works\n",
    "def get_g_n(G, src, dest, parent_g_n):\n",
    "    return G[src][dest].get('weight') + parent_g_n"
   ],
   "outputs": [],
   "metadata": {}
  },
  {
   "cell_type": "code",
   "execution_count": 290,
   "source": [
    "#works\n",
    "def get_h_n_and_mst(G):\n",
    "    cost , G = kruskalAlgo(G)\n",
    "    # print(\"Cost of MST : \", cost)\n",
    "    return G, cost"
   ],
   "outputs": [],
   "metadata": {}
  },
  {
   "cell_type": "code",
   "execution_count": 291,
   "source": [
    "#works\n",
    "def remove_list_of_nodes_from_graph(G, lst):\n",
    "    aug_graph = G\n",
    "    for i in lst:\n",
    "        aug_graph.remove_node(i)\n",
    "    return aug_graph"
   ],
   "outputs": [],
   "metadata": {}
  },
  {
   "cell_type": "code",
   "execution_count": 292,
   "source": [
    "#works\n",
    "def goal_test(no_of_nodes, visited, curr_node):\n",
    "    if curr_node == 0:\n",
    "        for i in range(no_of_nodes):\n",
    "            if i not in visited:\n",
    "                return False\n",
    "    else:\n",
    "        return False\n",
    "    return True"
   ],
   "outputs": [],
   "metadata": {}
  },
  {
   "cell_type": "code",
   "execution_count": 293,
   "source": [
    "# Initialize\n",
    "input_graph = G\n",
    "heap = [(0,0)] # store as (node, g-value)\n",
    "visited = []"
   ],
   "outputs": [],
   "metadata": {}
  },
  {
   "cell_type": "code",
   "execution_count": 294,
   "source": [
    "def A_star(current_node, visited, parent_gn):\n",
    "    # make current node visited\n",
    "    visited.append(current_node)\n",
    "    while goal_test(visited, current_node) == False:\n",
    "        # remove the visited nodes from graph and get augmented graph\n",
    "        aug_graph = remove_list_of_nodes_from_graph(input_graph, visited)\n",
    "        # get mst from it and hn\n",
    "        mst , h_n = get_h_n_and_mst(aug_graph)\n",
    "        # get list of edges from current node\n",
    "        edges = input_graph.edges(current_node)\n",
    "        # push all unvisited nodes to heap with f-value\n",
    "        for src, dest in edges:\n",
    "            if dest in visited:\n",
    "                # add the node with f-value\n",
    "                f_value = h_n + get_g_n(input_graph, src, dest, parent_g_n)\n",
    "                heappush(heap, (dest, f_value))\n",
    "        # extract node from heap with least f_value\n",
    "        node, node_g_value = heappop(heap)\n",
    "        # call a* on the node\n",
    "        return A_star(node, visited, node_g_value)\n",
    "    # goal test is true\n",
    "    # list visited stores the order in which nodes are visited\n",
    "    return visited"
   ],
   "outputs": [],
   "metadata": {}
  }
 ],
 "metadata": {
  "orig_nbformat": 4,
  "language_info": {
   "name": "python",
   "version": "3.8.10",
   "mimetype": "text/x-python",
   "codemirror_mode": {
    "name": "ipython",
    "version": 3
   },
   "pygments_lexer": "ipython3",
   "nbconvert_exporter": "python",
   "file_extension": ".py"
  },
  "kernelspec": {
   "name": "python3",
   "display_name": "Python 3.8.10 64-bit"
  },
  "interpreter": {
   "hash": "916dbcbb3f70747c44a77c7bcd40155683ae19c65e1c03b4aa3499c5328201f1"
  }
 },
 "nbformat": 4,
 "nbformat_minor": 2
}