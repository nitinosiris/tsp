{
 "cells": [
  {
   "cell_type": "code",
   "execution_count": 201,
   "source": [
    "import scipy as sp\n",
    "from scipy import sparse\n",
    "import networkx as nx\n",
    "from scipy.io import mmread\n",
    "from numpy import linalg as LA\n",
    "import numpy as np\n",
    "import matplotlib.pyplot as plt\n"
   ],
   "outputs": [],
   "metadata": {}
  },
  {
   "cell_type": "code",
   "execution_count": 202,
   "source": [
    "G = nx.read_edgelist(\"data.txt\", nodetype=int, data=((\"weight\", int),))\n",
    "G = nx.Graph(G)"
   ],
   "outputs": [],
   "metadata": {}
  },
  {
   "cell_type": "code",
   "execution_count": 203,
   "source": [
    "list(G.edges(data=True))"
   ],
   "outputs": [
    {
     "output_type": "execute_result",
     "data": {
      "text/plain": [
       "[(0, 1, {'weight': 4}),\n",
       " (0, 2, {'weight': 9}),\n",
       " (1, 2, {'weight': 2}),\n",
       " (1, 3, {'weight': 6}),\n",
       " (2, 3, {'weight': 1})]"
      ]
     },
     "metadata": {},
     "execution_count": 203
    }
   ],
   "metadata": {}
  },
  {
   "cell_type": "code",
   "execution_count": 204,
   "source": [
    "def print_graph(G):\n",
    "    pos = nx.spring_layout(G)  # pos = nx.nx_agraph.graphviz_layout(G)\n",
    "    nx.draw_networkx(G, pos)\n",
    "    labels = nx.get_edge_attributes(G, 'weight')\n",
    "    nx.draw_networkx_edge_labels(G, pos, edge_labels=labels)\n",
    "    plt.savefig(\"filename.png\")\n",
    "\n",
    "print_graph(G)"
   ],
   "outputs": [
    {
     "output_type": "display_data",
     "data": {
      "image/png": "[encoded data removed]",
      "text/plain": [
       "<Figure size 432x288 with 1 Axes>"
      ]
     },
     "metadata": {}
    }
   ],
   "metadata": {}
  },
  {
   "cell_type": "code",
   "execution_count": 205,
   "source": [
    "print(G.number_of_nodes())"
   ],
   "outputs": [
    {
     "output_type": "stream",
     "name": "stdout",
     "text": [
      "4\n"
     ]
    }
   ],
   "metadata": {}
  },
  {
   "cell_type": "code",
   "execution_count": 206,
   "source": [
    "def find(parent, i):\n",
    "    if parent[i] == i:\n",
    "        return i\n",
    "    return find(parent, parent[i])\n",
    "\n",
    "\n",
    "def union(parent, rank, x, y):\n",
    "    xroot = find(parent, x)\n",
    "    yroot = find(parent, y)\n",
    "\n",
    "    # Attach smaller rank tree under root of\n",
    "    # high rank tree (Union by Rank)\n",
    "    if rank[xroot] < rank[yroot]:\n",
    "        parent[xroot] = yroot\n",
    "    elif rank[xroot] > rank[yroot]:\n",
    "        parent[yroot] = xroot\n",
    "\n",
    "    # If ranks are same, then make one as root\n",
    "    # and increment its rank by one\n",
    "    else:\n",
    "        parent[yroot] = xroot\n",
    "        rank[xroot] += 1\n"
   ],
   "outputs": [],
   "metadata": {}
  },
  {
   "cell_type": "code",
   "execution_count": 207,
   "source": [
    "class DisjointSet:\n",
    "    parent = {}\n",
    " \n",
    "    # perform MakeSet operation\n",
    "    def makeSet(self, N):\n",
    " \n",
    "        # create `N` disjoint sets (one for each vertex)\n",
    "        for i in range(N):\n",
    "            self.parent[i] = i\n",
    " \n",
    "    # Find the root of the set in which element `k` belongs\n",
    "    def Find(self, k):\n",
    " \n",
    "        # if `k` is root\n",
    "        if self.parent[k] == k:\n",
    "            return k\n",
    " \n",
    "        # recur for the parent until we find the root\n",
    "        return self.Find(self.parent[k])\n",
    " \n",
    "    # Perform Union of two subsets\n",
    "    def Union(self, a, b):\n",
    " \n",
    "        # find the root of the sets in which elements\n",
    "        # `x` and `y` belongs\n",
    "        x = self.Find(a)\n",
    "        y = self.Find(b)\n",
    " \n",
    "        self.parent[x] = y\n"
   ],
   "outputs": [],
   "metadata": {}
  },
  {
   "cell_type": "code",
   "execution_count": 208,
   "source": [
    "def kruskalAlgo(G):\n",
    " \n",
    "    # stores the edges present in MST\n",
    "    MST = []\n",
    "    # Initialize `DisjointSet` class.\n",
    "    # Create a singleton set for each element of the universe.\n",
    "    ds = DisjointSet()\n",
    "    ds.makeSet(G.number_of_nodes())\n",
    " \n",
    "    index = 0\n",
    " \n",
    "    graph = G\n",
    "    G = sorted(G.edges(data=True), key=lambda item: item[2]['weight'])\n",
    "    # sort edges by increasing weight\n",
    "    # edges.sort(key=lambda x: x[2])\n",
    " \n",
    "    # MST contains exactly `V-1` edges\n",
    "    while len(MST) != graph.number_of_nodes() - 1:\n",
    " \n",
    "        # consider the next edge with minimum weight from the graph\n",
    "        (src, dest, weight) = G[index]\n",
    "        weight = weight.get('weight')\n",
    "        index = index + 1\n",
    " \n",
    "        # find the root of the sets to which two endpoints\n",
    "        # vertices of the next edge belongs\n",
    "        x = ds.Find(src)\n",
    "        y = ds.Find(dest)\n",
    " \n",
    "        # if both endpoints have different parents, they belong to\n",
    "        # different connected components and can be included in MST\n",
    "        if x != y:\n",
    "            MST.append((src, dest, weight))\n",
    "            ds.Union(x, y)\n",
    "    \n",
    "    minimumCost = 0\n",
    "    G = nx.Graph()\n",
    "    print(\"Edges in the constructed MST\")\n",
    "    for u, v, weight in MST:\n",
    "        minimumCost += weight\n",
    "        G.add_weighted_edges_from([(u, v, weight)])\n",
    "    \n",
    "    return minimumCost, G\n",
    "    \n",
    "\n",
    "cost , G = kruskalAlgo(G)\n",
    "print(\"Cost of MST : \", cost)\n",
    "print_graph(G)"
   ],
   "outputs": [
    {
     "output_type": "stream",
     "name": "stdout",
     "text": [
      "Edges in the constructed MST\n",
      "Cost of MST :  7\n"
     ]
    },
    {
     "output_type": "display_data",
     "data": {
      "image/png": "[encoded data removed]",
      "text/plain": [
       "<Figure size 432x288 with 1 Axes>"
      ]
     },
     "metadata": {}
    }
   ],
   "metadata": {}
  }
 ],
 "metadata": {
  "orig_nbformat": 4,
  "language_info": {
   "name": "python",
   "version": "3.9.7",
   "mimetype": "text/x-python",
   "codemirror_mode": {
    "name": "ipython",
    "version": 3
   },
   "pygments_lexer": "ipython3",
   "nbconvert_exporter": "python",
   "file_extension": ".py"
  },
  "kernelspec": {
   "name": "python3",
   "display_name": "Python 3.9.7 64-bit"
  },
  "interpreter": {
   "hash": "e7370f93d1d0cde622a1f8e1c04877d8463912d04d973331ad4851f04de6915a"
  }
 },
 "nbformat": 4,
 "nbformat_minor": 2
}