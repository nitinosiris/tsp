{
 "cells": [
  {
   "cell_type": "code",
   "execution_count": null,
   "source": [
    "import scipy as sp\n",
    "from scipy import sparse\n",
    "import networkx as nx\n",
    "from scipy.io import mmread\n",
    "from numpy import linalg as LA\n",
    "import numpy as np\n",
    "import matplotlib.pyplot as plt\n",
    "import heapq\n",
    "import copy"
   ],
   "outputs": [],
   "metadata": {}
  },
  {
   "cell_type": "code",
   "execution_count": null,
   "source": [
    "G = nx.read_edgelist(\"data.txt\", nodetype=int, data=((\"weight\", int),))\n",
    "G = nx.Graph(G)"
   ],
   "outputs": [],
   "metadata": {}
  },
  {
   "cell_type": "code",
   "execution_count": null,
   "source": [
    "list(G.edges(data=True))"
   ],
   "outputs": [],
   "metadata": {}
  },
  {
   "cell_type": "code",
   "execution_count": null,
   "source": [
    "def print_graph(inp_graph, ct):\n",
    "    pos = nx.spring_layout(inp_graph)\n",
    "    nx.draw_networkx(inp_graph, pos)\n",
    "    labels = nx.get_edge_attributes(inp_graph, 'weight')\n",
    "    x = nx.draw_networkx_edge_labels(inp_graph, pos, edge_labels=labels)\n",
    "    plt.show(\"filename\" + str(ct) + \".png\")"
   ],
   "outputs": [],
   "metadata": {}
  },
  {
   "cell_type": "code",
   "execution_count": null,
   "source": [
    "# Initialize\n",
    "input_graph = copy.deepcopy(G)\n",
    "print_graph(input_graph, 0)\n",
    "no_of_nodes = input_graph.number_of_nodes()\n",
    "heap = [] # store as (node, g-value)\n",
    "# visited = []"
   ],
   "outputs": [],
   "metadata": {}
  },
  {
   "cell_type": "code",
   "execution_count": null,
   "source": [
    "print(input_graph.number_of_nodes())\n",
    "# print_graph(input_graph, 0)"
   ],
   "outputs": [],
   "metadata": {}
  },
  {
   "cell_type": "code",
   "execution_count": null,
   "source": [
    "def kruskalAlgo(inp_graph):\n",
    "    # stores the edges present in MST\n",
    "    MST = []\n",
    "    index = 0\n",
    "    cost = 0\n",
    "    ct = 0\n",
    "    nodes = inp_graph.number_of_nodes()\n",
    "    # temp graph\n",
    "    graph = nx.Graph()\n",
    "    # sort edges by increasing weight\n",
    "    sorted_graph = sorted(inp_graph.edges(data=True), key=lambda item: item[2]['weight'])\n",
    "    # MST contains exactly `V-1` edges\n",
    "    i = 0\n",
    "    for edgelist in sorted_graph:\n",
    "        # consider the next edge with minimum weight from the graph\n",
    "        \n",
    "        (src, dest, weight) = edgelist\n",
    "        weight = weight.get('weight')\n",
    "        index = index + 1\n",
    "        # add edge\n",
    "        graph.add_edge(src, dest, weight=weight)\n",
    "        # check for cycle\n",
    "        lst = nx.cycle_basis(graph.to_undirected())\n",
    "        if len(lst) == 0:\n",
    "            # consider the wt if no cycle\n",
    "            cost = cost + weight\n",
    "            # i += 1\n",
    "            # MST.append((src, dest, weight))\n",
    "            # minimumCost = 0\n",
    "            # N = nx.Graph()\n",
    "            # print(\"Adding Src : \" + str(src) + \" Des : \" + str(dest) + \" Wt : \" + str(weight))\n",
    "            # for u, v, weight in MST:\n",
    "            #     minimumCost += weight\n",
    "            #     N.add_weighted_edges_from([(u, v, weight)])\n",
    "            # print_graph(N, ct)\n",
    "            # ct = ct + 1\n",
    "        else:\n",
    "            # discard the edge\n",
    "            e = (src, dest, {\"weight\" : weight})\n",
    "            graph.remove_edge(*e[:2])\n",
    "\n",
    "        \n",
    "    return sorted_graph, graph, cost"
   ],
   "outputs": [],
   "metadata": {}
  },
  {
   "cell_type": "code",
   "execution_count": null,
   "source": [
    "#works\n",
    "def get_g_n(inp_graph, src, dest, parent_g_n):\n",
    "    return inp_graph[src][dest].get('weight') + parent_g_n"
   ],
   "outputs": [],
   "metadata": {}
  },
  {
   "cell_type": "code",
   "execution_count": null,
   "source": [
    "#works\n",
    "def get_h_n_and_mst(inp_graph):\n",
    "    lst, graph, cost = kruskalAlgo(inp_graph)\n",
    "    print(\"Cost of MST : \", cost)\n",
    "    # print_graph(graph, 0)\n",
    "    # print(lst)\n",
    "    return cost"
   ],
   "outputs": [],
   "metadata": {}
  },
  {
   "cell_type": "code",
   "execution_count": null,
   "source": [
    "#works\n",
    "def remove_list_of_nodes_from_graph(inp_graph, lst):\n",
    "    for i in lst:\n",
    "        inp_graph.remove_node(int(i))\n",
    "    return inp_graph"
   ],
   "outputs": [],
   "metadata": {}
  },
  {
   "cell_type": "code",
   "execution_count": null,
   "source": [
    "#works\n",
    "def goal_test(no_of_nodes, visited):\n",
    "    return len(visited) == no_of_nodes"
   ],
   "outputs": [],
   "metadata": {}
  },
  {
   "cell_type": "code",
   "execution_count": null,
   "source": [
    "def A_star(inp_graph, N):\n",
    "    # ans\n",
    "    ans = 0\n",
    "    # visited list\n",
    "    visited = []\n",
    "    # deepcopy for aug graph\n",
    "    temp = copy.deepcopy(inp_graph)\n",
    "    # create augmented graph\n",
    "    temp = remove_list_of_nodes_from_graph(temp, [0])\n",
    "    # print_graph(input_graph, 0)\n",
    "    # print_graph(temp, 0)\n",
    "    # generate MST of augmented graph\n",
    "    h_n = get_h_n_and_mst(temp)\n",
    "    # push src node with FN = HN since GN = 0 \n",
    "    heapq.heappush(heap, (h_n, h_n, 0, 0, copy.deepcopy(visited), 0))\n",
    "    # std bfs jaisa\n",
    "    while len(list(heap)) != 0:\n",
    "        # pop node with min fn value\n",
    "        f_n_parent, h_n_parent, g_n_parent, node, visited, parent = heapq.heappop(heap)\n",
    "        ans = f_n_parent\n",
    "        # make node visited\n",
    "        visited.append(node)\n",
    "        if goal_test(N, visited):\n",
    "            print(visited)\n",
    "            return ans\n",
    "        # deepcopy for aug graph\n",
    "        temp = copy.deepcopy(inp_graph)\n",
    "        # create augmented graph\n",
    "        temp = remove_list_of_nodes_from_graph(temp, visited)\n",
    "        # generate MST of augmented graph\n",
    "        h_n = get_h_n_and_mst(temp)\n",
    "        # get edges of current node\n",
    "        edges = []\n",
    "        for u, v, weight in inp_graph.edges.data(\"weight\"):\n",
    "            if weight is not None:\n",
    "                if u == node and v not in visited:\n",
    "                    edges.append(v)\n",
    "                elif v == node and u not in visited:\n",
    "                    edges.append(u)\n",
    "        print(\"Edges for node \" + str(node) + \" \" + str(edges))\n",
    "        # now we have all childs of node\n",
    "        # push all those childs into heap\n",
    "        for u in edges:\n",
    "            # edge wt + parent's fn\n",
    "            GN = get_g_n(inp_graph, node, u, g_n_parent)\n",
    "            heapq.heappush(heap, (h_n + GN, h_n, GN, u, copy.deepcopy(visited), node))\n",
    "        print(\"-----------------------------------------------------------------\")\n",
    "        print(\"Parent \" + str(parent))\n",
    "        print(\"Heap \" + str(list(heap)))\n",
    "        print(\"Node popped from heap \" + str(node))\n",
    "        print(\"Its visited list \" + str(visited))"
   ],
   "outputs": [],
   "metadata": {}
  },
  {
   "cell_type": "code",
   "execution_count": null,
   "source": [
    "def Start_a_star():\n",
    "    temp = copy.deepcopy(input_graph)\n",
    "    print_graph(input_graph, 0)\n",
    "    # print(list(heap))\n",
    "    # print(visited)\n",
    "    # print(no_of_nodes)\n",
    "    path = A_star(input_graph, no_of_nodes)\n",
    "    print(path)"
   ],
   "outputs": [],
   "metadata": {}
  },
  {
   "cell_type": "code",
   "execution_count": null,
   "source": [
    "Start_a_star()"
   ],
   "outputs": [],
   "metadata": {}
  }
 ],
 "metadata": {
  "orig_nbformat": 4,
  "language_info": {
   "name": "python",
   "version": "3.8.10",
   "mimetype": "text/x-python",
   "codemirror_mode": {
    "name": "ipython",
    "version": 3
   },
   "pygments_lexer": "ipython3",
   "nbconvert_exporter": "python",
   "file_extension": ".py"
  },
  "kernelspec": {
   "name": "python3",
   "display_name": "Python 3.8.10 64-bit"
  },
  "interpreter": {
   "hash": "916dbcbb3f70747c44a77c7bcd40155683ae19c65e1c03b4aa3499c5328201f1"
  }
 },
 "nbformat": 4,
 "nbformat_minor": 2
}