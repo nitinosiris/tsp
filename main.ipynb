{
 "cells": [
  {
   "cell_type": "code",
   "execution_count": null,
   "source": [
    "import networkx as nx\n",
    "import matplotlib.pyplot as plt\n",
    "import heapq\n",
    "from queue import PriorityQueue\n",
    "import copy\n",
    "import sys"
   ],
   "outputs": [],
   "metadata": {}
  },
  {
   "cell_type": "code",
   "execution_count": null,
   "source": [
    "print(\"Enter the name of file on which you want to run this Alog : \")\n",
    "inp = input()"
   ],
   "outputs": [],
   "metadata": {}
  },
  {
   "cell_type": "code",
   "execution_count": null,
   "source": [
    "G = nx.read_edgelist(inp, nodetype=int, data=((\"weight\", int),))\n",
    "G = nx.Graph(G)\n",
    "lst = []\n",
    "for s, d, wt in G.edges(data=True):\n",
    "    wt = wt.get('weight')\n",
    "    e = (s, d, wt)\n",
    "    if wt == 0:\n",
    "        lst.append(e)\n",
    "\n",
    "for i in lst:\n",
    "    G.remove_edge(*i[:2])"
   ],
   "outputs": [],
   "metadata": {}
  },
  {
   "cell_type": "code",
   "execution_count": null,
   "source": [
    "list(G.edges(data=True))\n",
    "source = list(G.edges())\n",
    "source, x = source[0]\n",
    "print(\"-----------------------------------------------------------------\")\n",
    "print(\"source is \" + str(source))"
   ],
   "outputs": [],
   "metadata": {}
  },
  {
   "cell_type": "code",
   "execution_count": null,
   "source": [
    "def print_graph(inp_graph, ct):\n",
    "    pos = nx.spring_layout(inp_graph)\n",
    "    nx.draw_networkx(inp_graph, pos)\n",
    "    labels = nx.get_edge_attributes(inp_graph, 'weight')\n",
    "    x = nx.draw_networkx_edge_labels(inp_graph, pos, edge_labels=labels)\n",
    "    plt.show(\"filename\" + str(ct) + \".png\")"
   ],
   "outputs": [],
   "metadata": {}
  },
  {
   "cell_type": "code",
   "execution_count": null,
   "source": [
    "# Initialize\n",
    "input_graph = copy.deepcopy(G)\n",
    "print_graph(input_graph, 0)\n",
    "no_of_nodes = input_graph.number_of_nodes()\n",
    "# heap = [] # store as (node, g-value)\n",
    "pq = PriorityQueue()"
   ],
   "outputs": [],
   "metadata": {}
  },
  {
   "cell_type": "code",
   "execution_count": null,
   "source": [
    "print(\"No of nodes in graph \" + str(input_graph.number_of_nodes()))\n",
    "# print_graph(input_graph, 0)"
   ],
   "outputs": [],
   "metadata": {}
  },
  {
   "cell_type": "code",
   "execution_count": null,
   "source": [
    "def kruskalAlgo(inp_graph):\n",
    "    # stores the edges present in MST\n",
    "    MST = []\n",
    "    index = 0\n",
    "    cost = 0\n",
    "    nodes = inp_graph.number_of_nodes()\n",
    "    # temp graph\n",
    "    graph = nx.Graph()\n",
    "    # sort edges by increasing weight\n",
    "    sorted_graph = sorted(inp_graph.edges(data=True), key=lambda item: item[2]['weight'])\n",
    "    # MST contains exactly `V-1` edges\n",
    "    i = 0\n",
    "    for edgelist in sorted_graph:\n",
    "        # consider the next edge with minimum weight from the graph\n",
    "        (src, dest, weight) = edgelist\n",
    "        weight = weight.get('weight')\n",
    "        index = index + 1\n",
    "        # add edge\n",
    "        graph.add_edge(src, dest, weight=weight)\n",
    "        # check for cycle\n",
    "        lst = nx.cycle_basis(graph.to_undirected())\n",
    "        if len(lst) == 0:\n",
    "            # consider the wt if no cycle\n",
    "            cost = cost + weight\n",
    "        else:\n",
    "            # discard the edge\n",
    "            e = (src, dest, {\"weight\" : weight})\n",
    "            graph.remove_edge(*e[:2])\n",
    "    cost = 0\n",
    "    for s,d,wt in graph.edges(data=\"weight\"):\n",
    "        cost = cost + wt\n",
    "    # print(cost)\n",
    "    return graph, cost"
   ],
   "outputs": [],
   "metadata": {}
  },
  {
   "cell_type": "code",
   "execution_count": null,
   "source": [
    "#works\n",
    "def get_g_n(inp_graph, src, dest, parent_g_n):\n",
    "    e = (src, dest)\n",
    "    if inp_graph.has_edge(*e):\n",
    "        return inp_graph[src][dest].get('weight') + parent_g_n\n",
    "    else:\n",
    "        return -1"
   ],
   "outputs": [],
   "metadata": {}
  },
  {
   "cell_type": "code",
   "execution_count": null,
   "source": [
    "#works\n",
    "def get_h_n_and_mst(inp_graph):\n",
    "    graph, cost = kruskalAlgo(inp_graph)\n",
    "    # print(\"Cost of MST \" + str(cost))\n",
    "    # print_graph(graph,0)\n",
    "    return cost"
   ],
   "outputs": [],
   "metadata": {}
  },
  {
   "cell_type": "code",
   "execution_count": null,
   "source": [
    "#works\n",
    "def remove_list_of_nodes_from_graph(src, inp_graph, lst):\n",
    "    # lst = visited + [u]\n",
    "    for i in lst:\n",
    "        if int(i) != src:\n",
    "            if int(i) in inp_graph:\n",
    "                inp_graph.remove_node(int(i))\n",
    "    return inp_graph"
   ],
   "outputs": [],
   "metadata": {}
  },
  {
   "cell_type": "code",
   "execution_count": null,
   "source": [
    "#works\n",
    "def check_for_exactly_once_visited(input_graph ,visited):\n",
    "    lst = list(input_graph)\n",
    "    for i in lst:\n",
    "        if i not in visited:\n",
    "            return False\n",
    "    return True"
   ],
   "outputs": [],
   "metadata": {}
  },
  {
   "cell_type": "code",
   "execution_count": null,
   "source": [
    "#works\n",
    "def goal_test(src, visited):\n",
    "    if src == visited[len(visited)-1] and len(visited)!=1:\n",
    "        return True\n",
    "    return False"
   ],
   "outputs": [],
   "metadata": {}
  },
  {
   "cell_type": "code",
   "execution_count": null,
   "source": [
    "def A_star(inp_graph, N, src):\n",
    "    # state\n",
    "    count = 1\n",
    "    # GN\n",
    "    GN = 0\n",
    "    # ct = []\n",
    "    visited = []\n",
    "    # deepcopy for aug graph\n",
    "    temp = copy.deepcopy(inp_graph)\n",
    "\n",
    "    h_n = get_h_n_and_mst(temp)\n",
    "    # h_n = 0\n",
    "    pq.put((h_n + GN, h_n, GN, src, copy.deepcopy(visited), src))\n",
    "    # std bfs jaisa\n",
    "    while pq.qsize() != 0:\n",
    "        data = pq.get()\n",
    "        f_n_parent, h_n_parent, g_n_parent, node, visited, parent = data\n",
    "        count = max(pq.qsize(), count)\n",
    "        # make node lst\n",
    "        visited.append(node)\n",
    "\n",
    "        if goal_test(src, visited):\n",
    "            visited = [src] + visited\n",
    "            print(\"-----------------------------------------------------------------\")\n",
    "            print(\"Path Followed is \")\n",
    "            print(visited)\n",
    "            return f_n_parent, count\n",
    "\n",
    "        if check_for_exactly_once_visited(inp_graph , visited):\n",
    "            print(\"-----------------------------------------------------------------\")\n",
    "            print(\"All nodes are visited exactly once\")\n",
    "            print(str(visited + [src]))\n",
    "\n",
    "            x = visited[len(visited) -1]\n",
    "            e = (x, src)\n",
    "\n",
    "            if not inp_graph.has_edge(*e):\n",
    "                print(\"No direct edges between \" + str(x) + \" and \" + str(src))\n",
    "                print(\"Prune above path :)\")\n",
    "                continue\n",
    "            else:\n",
    "                visited.remove(src)\n",
    "\n",
    "        # get edges of current node\n",
    "        edges = []\n",
    "        for u, v, weight in inp_graph.edges.data(\"weight\"):\n",
    "            if weight is not None:\n",
    "                if u == node and v not in visited:\n",
    "                    edges.append(v)\n",
    "                elif v == node and u not in visited:\n",
    "                    edges.append(u)\n",
    "        # push all those childs into heap\n",
    "        for u in edges:\n",
    "            temp = copy.deepcopy(inp_graph)\n",
    "\n",
    "            temp = remove_list_of_nodes_from_graph(src, temp, visited + [u])\n",
    "\n",
    "            h_n = get_h_n_and_mst(temp)\n",
    "            # edge wt + parent's gn\n",
    "            GN = get_g_n(inp_graph, node, u, g_n_parent)\n",
    "            \n",
    "            if GN == -1:\n",
    "                print(\"Direct edge doesn't exist for \" + str(u) + \" and \" + str(node))\n",
    "                break\n",
    "            # push into heap\n",
    "            pq.put((h_n + GN, h_n, GN, u, copy.deepcopy(visited),node))\n",
    "            # count = count + 1\n",
    "        \n",
    "    if pq.qsize() == 0:\n",
    "        # print(\"We haven't traversed all nodes and heap is empty\")\n",
    "        print(\"Solution does not exist\")\n",
    "        # print(\"Fail\")\n",
    "        ans = 0\n",
    "    return ans, count"
   ],
   "outputs": [],
   "metadata": {}
  },
  {
   "cell_type": "code",
   "execution_count": null,
   "source": [
    "def Start_a_star():\n",
    "    temp = copy.deepcopy(input_graph)\n",
    "    # print_graph(input_graph, 0)\n",
    "    path, count = A_star(input_graph, no_of_nodes, source)    \n",
    "    print(\"FN = \" + str(path))\n",
    "    print(\"Max size of FringList during execution = \" + str(count))\n",
    "    print(\"-----------------------------------------------------------------\")"
   ],
   "outputs": [],
   "metadata": {}
  },
  {
   "cell_type": "code",
   "execution_count": null,
   "source": [
    "Start_a_star()"
   ],
   "outputs": [],
   "metadata": {}
  }
 ],
 "metadata": {
  "orig_nbformat": 4,
  "language_info": {
   "name": "python",
   "version": "3.8.10",
   "mimetype": "text/x-python",
   "codemirror_mode": {
    "name": "ipython",
    "version": 3
   },
   "pygments_lexer": "ipython3",
   "nbconvert_exporter": "python",
   "file_extension": ".py"
  },
  "kernelspec": {
   "name": "python3",
   "display_name": "Python 3.8.10 64-bit"
  },
  "interpreter": {
   "hash": "916dbcbb3f70747c44a77c7bcd40155683ae19c65e1c03b4aa3499c5328201f1"
  }
 },
 "nbformat": 4,
 "nbformat_minor": 2
}