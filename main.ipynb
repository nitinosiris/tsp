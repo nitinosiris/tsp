{
 "cells": [
  {
   "cell_type": "code",
   "execution_count": 71,
   "source": [
    "import scipy as sp\n",
    "from scipy import sparse\n",
    "import networkx as nx\n",
    "from scipy.io import mmread\n",
    "from numpy import linalg as LA\n",
    "import numpy as np\n",
    "import matplotlib.pyplot as plt\n",
    "import heapq\n",
    "import copy"
   ],
   "outputs": [],
   "metadata": {}
  },
  {
   "cell_type": "code",
   "execution_count": 72,
   "source": [
    "G = nx.read_edgelist(\"data1.txt\", nodetype=int, data=((\"weight\", int),))\n",
    "G = nx.Graph(G)"
   ],
   "outputs": [],
   "metadata": {}
  },
  {
   "cell_type": "code",
   "execution_count": 73,
   "source": [
    "list(G.edges(data=True))"
   ],
   "outputs": [
    {
     "output_type": "execute_result",
     "data": {
      "text/plain": [
       "[(0, 1, {'weight': 1}),\n",
       " (0, 5, {'weight': 100}),\n",
       " (0, 4, {'weight': 4}),\n",
       " (1, 2, {'weight': 1}),\n",
       " (1, 3, {'weight': 2}),\n",
       " (2, 3, {'weight': 1}),\n",
       " (2, 5, {'weight': 3}),\n",
       " (3, 4, {'weight': 1}),\n",
       " (4, 5, {'weight': 1})]"
      ]
     },
     "metadata": {},
     "execution_count": 73
    }
   ],
   "metadata": {}
  },
  {
   "cell_type": "code",
   "execution_count": 74,
   "source": [
    "def print_graph(inp_graph, ct):\n",
    "    pos = nx.spring_layout(inp_graph)\n",
    "    nx.draw_networkx(inp_graph, pos)\n",
    "    labels = nx.get_edge_attributes(inp_graph, 'weight')\n",
    "    x = nx.draw_networkx_edge_labels(inp_graph, pos, edge_labels=labels)\n",
    "    plt.show(\"filename\" + str(ct) + \".png\")"
   ],
   "outputs": [],
   "metadata": {}
  },
  {
   "cell_type": "code",
   "execution_count": 75,
   "source": [
    "# Initialize\n",
    "input_graph = copy.deepcopy(G)\n",
    "print_graph(input_graph, 0)\n",
    "no_of_nodes = input_graph.number_of_nodes()\n",
    "heap = [] # store as (node, g-value)\n",
    "# visited = []"
   ],
   "outputs": [
    {
     "output_type": "display_data",
     "data": {
      "image/png": "[encoded data removed]",
      "text/plain": [
       "<Figure size 432x288 with 1 Axes>"
      ]
     },
     "metadata": {}
    }
   ],
   "metadata": {}
  },
  {
   "cell_type": "code",
   "execution_count": 76,
   "source": [
    "print(input_graph.number_of_nodes())\n",
    "# print_graph(input_graph, 0)"
   ],
   "outputs": [
    {
     "output_type": "stream",
     "name": "stdout",
     "text": [
      "6\n"
     ]
    }
   ],
   "metadata": {}
  },
  {
   "cell_type": "code",
   "execution_count": 77,
   "source": [
    "def kruskalAlgo(inp_graph):\n",
    "    # stores the edges present in MST\n",
    "    MST = []\n",
    "    index = 0\n",
    "    cost = 0\n",
    "    ct = 0\n",
    "    nodes = inp_graph.number_of_nodes()\n",
    "    # temp graph\n",
    "    graph = nx.Graph()\n",
    "    # sort edges by increasing weight\n",
    "    sorted_graph = sorted(inp_graph.edges(data=True), key=lambda item: item[2]['weight'])\n",
    "    # MST contains exactly `V-1` edges\n",
    "    i = 0\n",
    "    for edgelist in sorted_graph:\n",
    "        # consider the next edge with minimum weight from the graph\n",
    "        \n",
    "        (src, dest, weight) = edgelist\n",
    "        weight = weight.get('weight')\n",
    "        index = index + 1\n",
    "        # add edge\n",
    "        graph.add_edge(src, dest, weight=weight)\n",
    "        # check for cycle\n",
    "        lst = nx.cycle_basis(graph.to_undirected())\n",
    "        if len(lst) == 0:\n",
    "            # consider the wt if no cycle\n",
    "            cost = cost + weight\n",
    "            # i += 1\n",
    "            # MST.append((src, dest, weight))\n",
    "            # minimumCost = 0\n",
    "            # N = nx.Graph()\n",
    "            # print(\"Adding Src : \" + str(src) + \" Des : \" + str(dest) + \" Wt : \" + str(weight))\n",
    "            # for u, v, weight in MST:\n",
    "            #     minimumCost += weight\n",
    "            #     N.add_weighted_edges_from([(u, v, weight)])\n",
    "            # print_graph(N, ct)\n",
    "            # ct = ct + 1\n",
    "        else:\n",
    "            # discard the edge\n",
    "            e = (src, dest, {\"weight\" : weight})\n",
    "            graph.remove_edge(*e[:2])\n",
    "\n",
    "        \n",
    "    return sorted_graph, graph, cost"
   ],
   "outputs": [],
   "metadata": {}
  },
  {
   "cell_type": "code",
   "execution_count": 78,
   "source": [
    "#works\n",
    "def get_g_n(inp_graph, src, dest, parent_g_n):\n",
    "    return inp_graph[src][dest].get('weight') + parent_g_n"
   ],
   "outputs": [],
   "metadata": {}
  },
  {
   "cell_type": "code",
   "execution_count": 79,
   "source": [
    "#works\n",
    "def get_h_n_and_mst(inp_graph):\n",
    "    lst, graph, cost = kruskalAlgo(inp_graph)\n",
    "    print(\"Cost of MST : \", cost)\n",
    "    # print_graph(graph, 0)\n",
    "    # print(lst)\n",
    "    return cost"
   ],
   "outputs": [],
   "metadata": {}
  },
  {
   "cell_type": "code",
   "execution_count": 80,
   "source": [
    "#works\n",
    "def remove_list_of_nodes_from_graph(inp_graph, lst):\n",
    "    for i in lst:\n",
    "        if int(i) in inp_graph:\n",
    "            inp_graph.remove_node(int(i))\n",
    "    return inp_graph"
   ],
   "outputs": [],
   "metadata": {}
  },
  {
   "cell_type": "code",
   "execution_count": 81,
   "source": [
    "#works\n",
    "def goal_test(no_of_nodes, visited):\n",
    "    return len(visited) == no_of_nodes"
   ],
   "outputs": [],
   "metadata": {}
  },
  {
   "cell_type": "code",
   "execution_count": 82,
   "source": [
    "def A_star(inp_graph, N):\n",
    "    # ans\n",
    "    ans = 0\n",
    "    # visited list\n",
    "    visited = []\n",
    "    # deepcopy for aug graph\n",
    "    temp = copy.deepcopy(inp_graph)\n",
    "    # create augmented graph\n",
    "    temp = remove_list_of_nodes_from_graph(temp, [0])\n",
    "    # print_graph(input_graph, 0)\n",
    "    # print_graph(temp, 0)\n",
    "    # generate MST of augmented graph\n",
    "    h_n = get_h_n_and_mst(temp)\n",
    "    # push src node with FN = HN since GN = 0 \n",
    "    heapq.heappush(heap, (h_n, h_n, 0, 0, copy.deepcopy(visited), 0))\n",
    "    # std bfs jaisa\n",
    "    while len(list(heap)) != 0:\n",
    "        # pop node with min fn value\n",
    "        f_n_parent, h_n_parent, g_n_parent, node, visited, parent = heapq.heappop(heap)\n",
    "        ans = f_n_parent\n",
    "        # make node visited\n",
    "        visited.append(node)\n",
    "        if goal_test(N, visited):\n",
    "            print(visited)\n",
    "            return ans\n",
    "        # get edges of current node\n",
    "        edges = []\n",
    "        for u, v, weight in inp_graph.edges.data(\"weight\"):\n",
    "            if weight is not None:\n",
    "                if u == node and v not in visited:\n",
    "                    edges.append(v)\n",
    "                elif v == node and u not in visited:\n",
    "                    edges.append(u)\n",
    "        print(\"Edges for node \" + str(node) + \" \" + str(edges))\n",
    "        # now we have all childs of node\n",
    "        # push all those childs into heap\n",
    "        for u in edges:\n",
    "            # deepcopy for aug graph\n",
    "            temp = copy.deepcopy(inp_graph)\n",
    "            # create augmented graph\n",
    "            temp = remove_list_of_nodes_from_graph(temp, visited + [u])\n",
    "            # generate MST of augmented graph\n",
    "            h_n = get_h_n_and_mst(temp)\n",
    "            # edge wt + parent's fn\n",
    "            GN = get_g_n(inp_graph, node, u, g_n_parent)\n",
    "            # push into heap\n",
    "            heapq.heappush(heap, (h_n + GN, h_n, GN, u, copy.deepcopy(visited), node))\n",
    "        print(\"-----------------------------------------------------------------\")\n",
    "        print(\"Parent \" + str(parent))\n",
    "        print(\"Heap \" + str(list(heap)))\n",
    "        print(\"Node popped from heap \" + str(node))\n",
    "        print(\"Its visited list \" + str(visited))"
   ],
   "outputs": [],
   "metadata": {}
  },
  {
   "cell_type": "code",
   "execution_count": 83,
   "source": [
    "def Start_a_star():\n",
    "    temp = copy.deepcopy(input_graph)\n",
    "    print_graph(input_graph, 0)\n",
    "    # print(list(heap))\n",
    "    # print(visited)\n",
    "    # print(no_of_nodes)\n",
    "    path = A_star(input_graph, no_of_nodes)\n",
    "    print(path)"
   ],
   "outputs": [],
   "metadata": {}
  },
  {
   "cell_type": "code",
   "execution_count": 84,
   "source": [
    "Start_a_star()"
   ],
   "outputs": [
    {
     "output_type": "display_data",
     "data": {
      "image/png": "[encoded data removed]",
      "text/plain": [
       "<Figure size 432x288 with 1 Axes>"
      ]
     },
     "metadata": {}
    },
    {
     "output_type": "stream",
     "name": "stdout",
     "text": [
      "Cost of MST :  4\n",
      "Edges for node 0 [1, 5, 4]\n",
      "Cost of MST :  3\n",
      "Cost of MST :  3\n",
      "Cost of MST :  5\n",
      "-----------------------------------------------------------------\n",
      "Parent 0\n",
      "Heap [(4, 3, 1, 1, [0], 0), (103, 3, 100, 5, [0], 0), (9, 5, 4, 4, [0], 0)]\n",
      "Node popped from heap 0\n",
      "Its visited list [0]\n",
      "Edges for node 1 [2, 3]\n",
      "Cost of MST :  2\n",
      "Cost of MST :  4\n",
      "-----------------------------------------------------------------\n",
      "Parent 0\n",
      "Heap [(4, 2, 2, 2, [0, 1], 1), (7, 4, 3, 3, [0, 1], 1), (9, 5, 4, 4, [0], 0), (103, 3, 100, 5, [0], 0)]\n",
      "Node popped from heap 1\n",
      "Its visited list [0, 1]\n",
      "Edges for node 2 [3, 5]\n",
      "Cost of MST :  1\n",
      "Cost of MST :  1\n",
      "-----------------------------------------------------------------\n",
      "Parent 1\n",
      "Heap [(4, 1, 3, 3, [0, 1, 2], 2), (6, 1, 5, 5, [0, 1, 2], 2), (9, 5, 4, 4, [0], 0), (103, 3, 100, 5, [0], 0), (7, 4, 3, 3, [0, 1], 1)]\n",
      "Node popped from heap 2\n",
      "Its visited list [0, 1, 2]\n",
      "Edges for node 3 [4]\n",
      "Cost of MST :  0\n",
      "-----------------------------------------------------------------\n",
      "Parent 2\n",
      "Heap [(4, 0, 4, 4, [0, 1, 2, 3], 3), (6, 1, 5, 5, [0, 1, 2], 2), (9, 5, 4, 4, [0], 0), (103, 3, 100, 5, [0], 0), (7, 4, 3, 3, [0, 1], 1)]\n",
      "Node popped from heap 3\n",
      "Its visited list [0, 1, 2, 3]\n",
      "Edges for node 4 [5]\n",
      "Cost of MST :  0\n",
      "-----------------------------------------------------------------\n",
      "Parent 3\n",
      "Heap [(5, 0, 5, 5, [0, 1, 2, 3, 4], 4), (6, 1, 5, 5, [0, 1, 2], 2), (9, 5, 4, 4, [0], 0), (103, 3, 100, 5, [0], 0), (7, 4, 3, 3, [0, 1], 1)]\n",
      "Node popped from heap 4\n",
      "Its visited list [0, 1, 2, 3, 4]\n",
      "[0, 1, 2, 3, 4, 5]\n",
      "5\n"
     ]
    }
   ],
   "metadata": {}
  }
 ],
 "metadata": {
  "orig_nbformat": 4,
  "language_info": {
   "name": "python",
   "version": "3.8.10",
   "mimetype": "text/x-python",
   "codemirror_mode": {
    "name": "ipython",
    "version": 3
   },
   "pygments_lexer": "ipython3",
   "nbconvert_exporter": "python",
   "file_extension": ".py"
  },
  "kernelspec": {
   "name": "python3",
   "display_name": "Python 3.8.10 64-bit"
  },
  "interpreter": {
   "hash": "916dbcbb3f70747c44a77c7bcd40155683ae19c65e1c03b4aa3499c5328201f1"
  }
 },
 "nbformat": 4,
 "nbformat_minor": 2
}